{
 "cells": [
  {
   "cell_type": "code",
   "execution_count": 4,
   "id": "909d776a",
   "metadata": {},
   "outputs": [],
   "source": [
    "#딕셔너리를 활용하여 랜덤으로 할당받은 상수를 값과 비교하여 해당 단어를 선택\n",
    "#해당 단어를 정답으로 설정\n",
    "#목숨이 0 이 되거나, 정답이 나올때 까지 반복\n",
    "# 정답과 비교할 문자열 input  // for (0부터 words.key[ran] 까지) input = input + '-' ->  정답이 5글자 이면  -----\n",
    "#      키보드로 부터 문자 하나를 입력 받고(inputc, 이를 정답(딕셔너리 의 키)과 비교_for i=0부터 len(words,key[ran]) 까지 비교, 만약 일치 하면 input[i] = inputc\n",
    "#목숨은 7개로 잡을 예정,\n",
    "words = {'funding':0, 'residue':1, 'dungeon':2, 'question':3, 'cohesion':4, 'downfall':5, 'football':6, 'goldfish':7}#단어들을 딕셔너리로 저장\n",
    "from random import random\n",
    "ran = random(0,7)\n",
    "chance = 7 #목숨\n",
    "count= 0 #맞춘 글자 수\n",
    "for i in range(len(words(ran))):\n",
    "    input = input + '-' # 정답 비우기\n",
    "while chance != 0 && count != len(words(ran)):\n",
    "    print(input)\n",
    "    inputc=input('문자 하나 입력')\n",
    "    for i=0 in range(len(words.key)):\n",
    "        if words.keys[i] == inputc:\n",
    "            count++\n",
    "            \n",
    "            \n",
    "    "
   ]
  },
  {
   "cell_type": "code",
   "execution_count": null,
   "id": "932e31ef",
   "metadata": {},
   "outputs": [],
   "source": []
  }
 ],
 "metadata": {
  "kernelspec": {
   "display_name": "Python 3 (ipykernel)",
   "language": "python",
   "name": "python3"
  },
  "language_info": {
   "codemirror_mode": {
    "name": "ipython",
    "version": 3
   },
   "file_extension": ".py",
   "mimetype": "text/x-python",
   "name": "python",
   "nbconvert_exporter": "python",
   "pygments_lexer": "ipython3",
   "version": "3.11.5"
  }
 },
 "nbformat": 4,
 "nbformat_minor": 5
}
